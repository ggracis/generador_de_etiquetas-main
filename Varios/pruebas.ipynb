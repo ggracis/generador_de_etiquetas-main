{
 "cells": [
  {
   "cell_type": "code",
   "execution_count": 18,
   "id": "52eeeb06",
   "metadata": {},
   "outputs": [
    {
     "name": "stdout",
     "output_type": "stream",
     "text": [
      "Código guardado: 1234.png\n"
     ]
    }
   ],
   "source": [
    "import barcode\n",
    "from barcode.writer import ImageWriter\n",
    "\n",
    "\n",
    "# Generar el código de barras con texto visible\n",
    "codigo = barcode.get('code128', 'PRUEBASCAME', writer=ImageWriter())\n",
    "\n",
    "# Guardar con opciones de personalización\n",
    "nombre_archivo = codigo.save('PRUEBAS CAME', options={\n",
    "    \"write_text\": False,       # Mostrar texto debajo\n",
    "    \"module_width\": 0.4,      # Ancho de las barras\n",
    "    \"module_height\": 20,      # Altura de las barras\n",
    "})\n",
    "\n",
    "print(f\"Código guardado: {1234}.png\")"
   ]
  }
 ],
 "metadata": {
  "kernelspec": {
   "display_name": "Python 3",
   "language": "python",
   "name": "python3"
  },
  "language_info": {
   "codemirror_mode": {
    "name": "ipython",
    "version": 3
   },
   "file_extension": ".py",
   "mimetype": "text/x-python",
   "name": "python",
   "nbconvert_exporter": "python",
   "pygments_lexer": "ipython3",
   "version": "3.11.6"
  }
 },
 "nbformat": 4,
 "nbformat_minor": 5
}
